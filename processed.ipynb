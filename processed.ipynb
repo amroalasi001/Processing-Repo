{
 "cells": [
  {
   "cell_type": "code",
   "execution_count": 1,
   "id": "0a9f199d",
   "metadata": {},
   "outputs": [],
   "source": [
    "import pandas as pd"
   ]
  },
  {
   "cell_type": "code",
   "execution_count": 2,
   "id": "16ab7174",
   "metadata": {},
   "outputs": [
    {
     "data": {
      "text/html": [
       "<div>\n",
       "<style scoped>\n",
       "    .dataframe tbody tr th:only-of-type {\n",
       "        vertical-align: middle;\n",
       "    }\n",
       "\n",
       "    .dataframe tbody tr th {\n",
       "        vertical-align: top;\n",
       "    }\n",
       "\n",
       "    .dataframe thead th {\n",
       "        text-align: right;\n",
       "    }\n",
       "</style>\n",
       "<table border=\"1\" class=\"dataframe\">\n",
       "  <thead>\n",
       "    <tr style=\"text-align: right;\">\n",
       "      <th></th>\n",
       "      <th>الكلمة</th>\n",
       "      <th>الكلمة بدون تشكيل</th>\n",
       "    </tr>\n",
       "  </thead>\n",
       "  <tbody>\n",
       "    <tr>\n",
       "      <th>0</th>\n",
       "      <td>بِسْمِ</td>\n",
       "      <td>بسم</td>\n",
       "    </tr>\n",
       "    <tr>\n",
       "      <th>1</th>\n",
       "      <td>اللَّهِ</td>\n",
       "      <td>الله</td>\n",
       "    </tr>\n",
       "    <tr>\n",
       "      <th>2</th>\n",
       "      <td>الرَّحْمَٰنِ</td>\n",
       "      <td>الرحمن</td>\n",
       "    </tr>\n",
       "    <tr>\n",
       "      <th>3</th>\n",
       "      <td>الرَّحِيمِ</td>\n",
       "      <td>الرحيم</td>\n",
       "    </tr>\n",
       "    <tr>\n",
       "      <th>4</th>\n",
       "      <td>الْحَمْدُ</td>\n",
       "      <td>الحمد</td>\n",
       "    </tr>\n",
       "    <tr>\n",
       "      <th>...</th>\n",
       "      <td>...</td>\n",
       "      <td>...</td>\n",
       "    </tr>\n",
       "    <tr>\n",
       "      <th>78243</th>\n",
       "      <td>صُدُورِ</td>\n",
       "      <td>صدور</td>\n",
       "    </tr>\n",
       "    <tr>\n",
       "      <th>78244</th>\n",
       "      <td>النَّاسِ</td>\n",
       "      <td>الناس</td>\n",
       "    </tr>\n",
       "    <tr>\n",
       "      <th>78245</th>\n",
       "      <td>مِنَ</td>\n",
       "      <td>من</td>\n",
       "    </tr>\n",
       "    <tr>\n",
       "      <th>78246</th>\n",
       "      <td>الْجِنَّةِ</td>\n",
       "      <td>الجنة</td>\n",
       "    </tr>\n",
       "    <tr>\n",
       "      <th>78247</th>\n",
       "      <td>وَالنَّاسِ</td>\n",
       "      <td>والناس</td>\n",
       "    </tr>\n",
       "  </tbody>\n",
       "</table>\n",
       "<p>78248 rows × 2 columns</p>\n",
       "</div>"
      ],
      "text/plain": [
       "             الكلمة الكلمة بدون تشكيل\n",
       "0            بِسْمِ               بسم\n",
       "1           اللَّهِ              الله\n",
       "2      الرَّحْمَٰنِ            الرحمن\n",
       "3        الرَّحِيمِ            الرحيم\n",
       "4         الْحَمْدُ             الحمد\n",
       "...             ...               ...\n",
       "78243       صُدُورِ              صدور\n",
       "78244      النَّاسِ             الناس\n",
       "78245          مِنَ                من\n",
       "78246    الْجِنَّةِ             الجنة\n",
       "78247    وَالنَّاسِ            والناس\n",
       "\n",
       "[78248 rows x 2 columns]"
      ]
     },
     "execution_count": 2,
     "metadata": {},
     "output_type": "execute_result"
    }
   ],
   "source": [
    "df = pd.read_excel(r\"C:\\Users\\Eqra\\Desktop\\Quran_Project\\processing.xlsx\")\n",
    "df"
   ]
  },
  {
   "cell_type": "code",
   "execution_count": 3,
   "id": "4cf55e86",
   "metadata": {},
   "outputs": [
    {
     "data": {
      "text/html": [
       "<div>\n",
       "<style scoped>\n",
       "    .dataframe tbody tr th:only-of-type {\n",
       "        vertical-align: middle;\n",
       "    }\n",
       "\n",
       "    .dataframe tbody tr th {\n",
       "        vertical-align: top;\n",
       "    }\n",
       "\n",
       "    .dataframe thead th {\n",
       "        text-align: right;\n",
       "    }\n",
       "</style>\n",
       "<table border=\"1\" class=\"dataframe\">\n",
       "  <thead>\n",
       "    <tr style=\"text-align: right;\">\n",
       "      <th></th>\n",
       "      <th>الكلمة</th>\n",
       "      <th>بدون_تشكيل</th>\n",
       "    </tr>\n",
       "  </thead>\n",
       "  <tbody>\n",
       "    <tr>\n",
       "      <th>0</th>\n",
       "      <td>بِسْمِ</td>\n",
       "      <td>بسم</td>\n",
       "    </tr>\n",
       "    <tr>\n",
       "      <th>1</th>\n",
       "      <td>اللَّهِ</td>\n",
       "      <td>الله</td>\n",
       "    </tr>\n",
       "    <tr>\n",
       "      <th>2</th>\n",
       "      <td>الرَّحْمَٰنِ</td>\n",
       "      <td>الرحمن</td>\n",
       "    </tr>\n",
       "    <tr>\n",
       "      <th>3</th>\n",
       "      <td>الرَّحِيمِ</td>\n",
       "      <td>الرحيم</td>\n",
       "    </tr>\n",
       "    <tr>\n",
       "      <th>4</th>\n",
       "      <td>الْحَمْدُ</td>\n",
       "      <td>الحمد</td>\n",
       "    </tr>\n",
       "    <tr>\n",
       "      <th>...</th>\n",
       "      <td>...</td>\n",
       "      <td>...</td>\n",
       "    </tr>\n",
       "    <tr>\n",
       "      <th>78243</th>\n",
       "      <td>صُدُورِ</td>\n",
       "      <td>صدور</td>\n",
       "    </tr>\n",
       "    <tr>\n",
       "      <th>78244</th>\n",
       "      <td>النَّاسِ</td>\n",
       "      <td>الناس</td>\n",
       "    </tr>\n",
       "    <tr>\n",
       "      <th>78245</th>\n",
       "      <td>مِنَ</td>\n",
       "      <td>من</td>\n",
       "    </tr>\n",
       "    <tr>\n",
       "      <th>78246</th>\n",
       "      <td>الْجِنَّةِ</td>\n",
       "      <td>الجنة</td>\n",
       "    </tr>\n",
       "    <tr>\n",
       "      <th>78247</th>\n",
       "      <td>وَالنَّاسِ</td>\n",
       "      <td>والناس</td>\n",
       "    </tr>\n",
       "  </tbody>\n",
       "</table>\n",
       "<p>78248 rows × 2 columns</p>\n",
       "</div>"
      ],
      "text/plain": [
       "             الكلمة بدون_تشكيل\n",
       "0            بِسْمِ        بسم\n",
       "1           اللَّهِ       الله\n",
       "2      الرَّحْمَٰنِ     الرحمن\n",
       "3        الرَّحِيمِ     الرحيم\n",
       "4         الْحَمْدُ      الحمد\n",
       "...             ...        ...\n",
       "78243       صُدُورِ       صدور\n",
       "78244      النَّاسِ      الناس\n",
       "78245          مِنَ         من\n",
       "78246    الْجِنَّةِ      الجنة\n",
       "78247    وَالنَّاسِ     والناس\n",
       "\n",
       "[78248 rows x 2 columns]"
      ]
     },
     "execution_count": 3,
     "metadata": {},
     "output_type": "execute_result"
    }
   ],
   "source": [
    "df['بدون_تشكيل'] = df['الكلمة بدون تشكيل']\n",
    "\n",
    "df = df.drop(columns=['الكلمة بدون تشكيل'])\n",
    "\n",
    "cols = df.columns.tolist()\n",
    "cols.insert(1, cols.pop(cols.index('بدون_تشكيل')))\n",
    "\n",
    "df = df[cols]\n",
    "df"
   ]
  },
  {
   "cell_type": "code",
   "execution_count": 4,
   "id": "64563793",
   "metadata": {},
   "outputs": [
    {
     "name": "stdout",
     "output_type": "stream",
     "text": [
      "         الكلمة بدون_تشكيل المحذوف  tag\n",
      "0        بِسْمِ        بسم     NaN  NaN\n",
      "1       اللَّهِ       الله     NaN  NaN\n",
      "2  الرَّحْمَٰنِ     الرحمن     NaN  NaN\n",
      "3    الرَّحِيمِ     الرحيم     NaN  NaN\n",
      "4     الْحَمْدُ      الحمد     NaN  NaN\n"
     ]
    }
   ],
   "source": [
    "tanween = \"ًٌٍ\"\n",
    "\n",
    "# المرور على الكلمات\n",
    "for i in range(len(df)):\n",
    "    word = str(df.loc[i, \"الكلمة\"]).strip() if pd.notnull(df.loc[i, \"الكلمة\"]) else \"\"\n",
    "\n",
    "    if len(word) > 0 and (word[-1] in tanween or (len(word) > 1 and word[-2] in tanween)):\n",
    "        # حفظ الكلمة المحذوفة\n",
    "        df.loc[i, \"المحذوف\"] = word\n",
    "        # تصنيفها كاسم\n",
    "        df.loc[i, \"tag\"] = \"اسم\"\n",
    "        # حذفها من العمود الأصلي\n",
    "        df.loc[i, \"الكلمة\"] = None\n",
    "\n",
    "print(df.head())\n"
   ]
  },
  {
   "cell_type": "code",
   "execution_count": 5,
   "id": "aac650ab",
   "metadata": {},
   "outputs": [
    {
     "data": {
      "text/plain": [
       "tag\n",
       "اسم    8894\n",
       "Name: count, dtype: int64"
      ]
     },
     "execution_count": 5,
     "metadata": {},
     "output_type": "execute_result"
    }
   ],
   "source": [
    "df['tag'].value_counts()"
   ]
  },
  {
   "cell_type": "code",
   "execution_count": 6,
   "id": "d54a8f87",
   "metadata": {},
   "outputs": [
    {
     "name": "stdout",
     "output_type": "stream",
     "text": [
      "         الكلمة بدون_تشكيل المحذوف  tag\n",
      "0        بِسْمِ        بسم    None  NaN\n",
      "1       اللَّهِ       None    None  اسم\n",
      "2  الرَّحْمَٰنِ       None    None  اسم\n",
      "3    الرَّحِيمِ       None    None  اسم\n",
      "4     الْحَمْدُ      الحمد    None  NaN\n"
     ]
    }
   ],
   "source": [
    "import pandas as pd\n",
    "\n",
    "# قراءة الملف الخارجي\n",
    "external_df = pd.read_excel(r\"C:\\Users\\Eqra\\Desktop\\Quran_Project\\Data\\Data\\arabic_jamida_names.xlsx\")\n",
    "\n",
    "# أخذ العمود الثالث (index 2) وتحويله لقائمة بعد إزالة أي فراغات\n",
    "external_words = external_df.iloc[:, 2].dropna().astype(str).str.strip().tolist()\n",
    "\n",
    "# إنشاء عمود 'tag' في df إذا مش موجود\n",
    "if 'tag' not in df.columns:\n",
    "    df['tag'] = None\n",
    "\n",
    "# وضع 'اسم' للكلمات الموجودة في external_words\n",
    "df.loc[df['بدون_تشكيل'].isin(external_words), 'tag'] = 'اسم'\n",
    "\n",
    "# حذف الكلمات المصنفة من العمود الأصلي 'بدون_تشكيل' (يمكنك تعديل العمود إذا تريد)\n",
    "df.loc[df['tag'] == 'اسم', 'بدون_تشكيل'] = None\n",
    "\n",
    "# إذا حابب تخزن الكلمات المحذوفة في عمود جديد\n",
    "df['المحذوف'] = df.apply(lambda x: x['بدون_تشكيل'] if x['tag']=='اسم' else None, axis=1)\n",
    "\n",
    "print(df.head())"
   ]
  },
  {
   "cell_type": "code",
   "execution_count": 7,
   "id": "a0c5faf1",
   "metadata": {},
   "outputs": [
    {
     "name": "stdout",
     "output_type": "stream",
     "text": [
      "             الكلمة بدون_تشكيل المحذوف  tag\n",
      "1           اللَّهِ       None    None  اسم\n",
      "2      الرَّحْمَٰنِ       None    None  اسم\n",
      "3        الرَّحِيمِ       None    None  اسم\n",
      "8      الرَّحْمَٰنِ       None    None  اسم\n",
      "9        الرَّحِيمِ       None    None  اسم\n",
      "...             ...        ...     ...  ...\n",
      "78221          None       None    None  اسم\n",
      "78225       اللَّهِ       None    None  اسم\n",
      "78226  الرَّحْمَٰنِ       None    None  اسم\n",
      "78227    الرَّحِيمِ       None    None  اسم\n",
      "78240       الَّذِي       None    None  اسم\n",
      "\n",
      "[16702 rows x 4 columns]\n"
     ]
    }
   ],
   "source": [
    "print(df[df['tag'].notnull()])"
   ]
  },
  {
   "cell_type": "code",
   "execution_count": 8,
   "id": "15d38787",
   "metadata": {},
   "outputs": [
    {
     "data": {
      "text/plain": [
       "tag\n",
       "اسم    16702\n",
       "Name: count, dtype: int64"
      ]
     },
     "execution_count": 8,
     "metadata": {},
     "output_type": "execute_result"
    }
   ],
   "source": [
    "df['tag'].value_counts()"
   ]
  },
  {
   "cell_type": "code",
   "execution_count": 9,
   "id": "34f6b65b",
   "metadata": {},
   "outputs": [
    {
     "name": "stdout",
     "output_type": "stream",
     "text": [
      "         الكلمة بدون_تشكيل المحذوف  tag\n",
      "0        بِسْمِ        بسم    None  NaN\n",
      "1       اللَّهِ       None    None  اسم\n",
      "2  الرَّحْمَٰنِ       None    None  اسم\n",
      "3    الرَّحِيمِ       None    None  اسم\n",
      "4     الْحَمْدُ      الحمد    None  NaN\n"
     ]
    }
   ],
   "source": [
    "import numpy as np\n",
    "\n",
    "# قائمة أحرف الجر بدون الباء واللام\n",
    "arabic_prepositions = [\n",
    "    \"من\", \"إلى\", \"عن\", \"على\", \"في\", \"الكاف\", \"حتى\",\n",
    "    \"خلا\", \"عدا\", \"ماعدا\", \"مذ\", \"منذ\", \"مع\", \"غير\", \"ربّ\"\n",
    "]\n",
    "\n",
    "# التأكد من وجود عمود 'tag'\n",
    "if 'tag' not in df.columns:\n",
    "    df['tag'] = None\n",
    "\n",
    "# المرور على الكلمات\n",
    "for i in range(len(df) - 1):  # -1 عشان ما يطلع خارج الحدود\n",
    "    current_word = str(df.loc[i, \"بدون_تشكيل\"]).strip()\n",
    "\n",
    "    if current_word in arabic_prepositions:\n",
    "        # إذا فيه تصنيف سابق في tag، نضيف مع فاصلة\n",
    "        # حفظ الكلمة المحذوفة في عمود 'المحذوف' وحذفها من عمود 'بدون_تشكيل'\n",
    "        df.loc[i + 1, \"المحذوف\"] = df.loc[i + 1, \"بدون_تشكيل\"]\n",
    "        df.loc[i + 1, \"بدون_تشكيل\"] = None\n",
    "        # تصنيف حرف الجر في عمود tag\n",
    "        df.loc[i + 1, \"tag\"] = \"حرف جر\"\n",
    "\n",
    "print(df.head())"
   ]
  },
  {
   "cell_type": "code",
   "execution_count": 10,
   "id": "3ab47f34",
   "metadata": {},
   "outputs": [
    {
     "data": {
      "text/html": [
       "<div>\n",
       "<style scoped>\n",
       "    .dataframe tbody tr th:only-of-type {\n",
       "        vertical-align: middle;\n",
       "    }\n",
       "\n",
       "    .dataframe tbody tr th {\n",
       "        vertical-align: top;\n",
       "    }\n",
       "\n",
       "    .dataframe thead th {\n",
       "        text-align: right;\n",
       "    }\n",
       "</style>\n",
       "<table border=\"1\" class=\"dataframe\">\n",
       "  <thead>\n",
       "    <tr style=\"text-align: right;\">\n",
       "      <th></th>\n",
       "      <th>الكلمة</th>\n",
       "      <th>بدون_تشكيل</th>\n",
       "      <th>المحذوف</th>\n",
       "      <th>tag</th>\n",
       "    </tr>\n",
       "  </thead>\n",
       "  <tbody>\n",
       "    <tr>\n",
       "      <th>25</th>\n",
       "      <td>الْمَغْضُوبِ</td>\n",
       "      <td>None</td>\n",
       "      <td>المغضوب</td>\n",
       "      <td>حرف جر</td>\n",
       "    </tr>\n",
       "    <tr>\n",
       "      <th>57</th>\n",
       "      <td>قَبْلِكَ</td>\n",
       "      <td>None</td>\n",
       "      <td>قبلك</td>\n",
       "      <td>حرف جر</td>\n",
       "    </tr>\n",
       "    <tr>\n",
       "      <th>63</th>\n",
       "      <td>None</td>\n",
       "      <td>None</td>\n",
       "      <td>None</td>\n",
       "      <td>حرف جر</td>\n",
       "    </tr>\n",
       "    <tr>\n",
       "      <th>65</th>\n",
       "      <td>رَبِّهِمْ</td>\n",
       "      <td>None</td>\n",
       "      <td>ربهم</td>\n",
       "      <td>حرف جر</td>\n",
       "    </tr>\n",
       "    <tr>\n",
       "      <th>83</th>\n",
       "      <td>قُلُوبِهِمْ</td>\n",
       "      <td>None</td>\n",
       "      <td>قلوبهم</td>\n",
       "      <td>حرف جر</td>\n",
       "    </tr>\n",
       "    <tr>\n",
       "      <th>...</th>\n",
       "      <td>...</td>\n",
       "      <td>...</td>\n",
       "      <td>...</td>\n",
       "      <td>...</td>\n",
       "    </tr>\n",
       "    <tr>\n",
       "      <th>78206</th>\n",
       "      <td>شَرِّ</td>\n",
       "      <td>None</td>\n",
       "      <td>شر</td>\n",
       "      <td>حرف جر</td>\n",
       "    </tr>\n",
       "    <tr>\n",
       "      <th>78218</th>\n",
       "      <td>الْعُقَدِ</td>\n",
       "      <td>None</td>\n",
       "      <td>None</td>\n",
       "      <td>حرف جر</td>\n",
       "    </tr>\n",
       "    <tr>\n",
       "      <th>78237</th>\n",
       "      <td>شَرِّ</td>\n",
       "      <td>None</td>\n",
       "      <td>شر</td>\n",
       "      <td>حرف جر</td>\n",
       "    </tr>\n",
       "    <tr>\n",
       "      <th>78243</th>\n",
       "      <td>صُدُورِ</td>\n",
       "      <td>None</td>\n",
       "      <td>صدور</td>\n",
       "      <td>حرف جر</td>\n",
       "    </tr>\n",
       "    <tr>\n",
       "      <th>78246</th>\n",
       "      <td>الْجِنَّةِ</td>\n",
       "      <td>None</td>\n",
       "      <td>الجنة</td>\n",
       "      <td>حرف جر</td>\n",
       "    </tr>\n",
       "  </tbody>\n",
       "</table>\n",
       "<p>5479 rows × 4 columns</p>\n",
       "</div>"
      ],
      "text/plain": [
       "             الكلمة بدون_تشكيل  المحذوف     tag\n",
       "25     الْمَغْضُوبِ       None  المغضوب  حرف جر\n",
       "57         قَبْلِكَ       None     قبلك  حرف جر\n",
       "63             None       None     None  حرف جر\n",
       "65        رَبِّهِمْ       None     ربهم  حرف جر\n",
       "83      قُلُوبِهِمْ       None   قلوبهم  حرف جر\n",
       "...             ...        ...      ...     ...\n",
       "78206         شَرِّ       None       شر  حرف جر\n",
       "78218     الْعُقَدِ       None     None  حرف جر\n",
       "78237         شَرِّ       None       شر  حرف جر\n",
       "78243       صُدُورِ       None     صدور  حرف جر\n",
       "78246    الْجِنَّةِ       None    الجنة  حرف جر\n",
       "\n",
       "[5479 rows x 4 columns]"
      ]
     },
     "execution_count": 10,
     "metadata": {},
     "output_type": "execute_result"
    }
   ],
   "source": [
    "df[df['tag'] == 'حرف جر']"
   ]
  },
  {
   "cell_type": "code",
   "execution_count": 11,
   "id": "d96ceae6",
   "metadata": {},
   "outputs": [
    {
     "name": "stdout",
     "output_type": "stream",
     "text": [
      "             الكلمة بدون_تشكيل  المحذوف     tag\n",
      "25     الْمَغْضُوبِ       None  المغضوب  حرف جر\n",
      "57         قَبْلِكَ       None     قبلك  حرف جر\n",
      "65        رَبِّهِمْ       None     ربهم  حرف جر\n",
      "83      قُلُوبِهِمْ       None   قلوبهم  حرف جر\n",
      "95          يَقُولُ       None     يقول  حرف جر\n",
      "...             ...        ...      ...     ...\n",
      "78174      جِيدِهَا       None    جيدها  حرف جر\n",
      "78206         شَرِّ       None       شر  حرف جر\n",
      "78237         شَرِّ       None       شر  حرف جر\n",
      "78243       صُدُورِ       None     صدور  حرف جر\n",
      "78246    الْجِنَّةِ       None    الجنة  حرف جر\n",
      "\n",
      "[4000 rows x 4 columns]\n"
     ]
    }
   ],
   "source": [
    "print(df[df['المحذوف'].notnull()])\n"
   ]
  },
  {
   "cell_type": "code",
   "execution_count": 12,
   "id": "ee20517b",
   "metadata": {},
   "outputs": [
    {
     "data": {
      "text/plain": [
       "np.int64(4000)"
      ]
     },
     "execution_count": 12,
     "metadata": {},
     "output_type": "execute_result"
    }
   ],
   "source": [
    "df['المحذوف'].count()"
   ]
  },
  {
   "cell_type": "code",
   "execution_count": 13,
   "id": "658e8b0a",
   "metadata": {},
   "outputs": [
    {
     "data": {
      "text/plain": [
       "tag\n",
       "اسم       15223\n",
       "حرف جر     5479\n",
       "Name: count, dtype: int64"
      ]
     },
     "execution_count": 13,
     "metadata": {},
     "output_type": "execute_result"
    }
   ],
   "source": [
    "df['tag'].value_counts()"
   ]
  },
  {
   "cell_type": "code",
   "execution_count": 14,
   "id": "4251efe3",
   "metadata": {},
   "outputs": [],
   "source": [
    "df.to_csv(r\"C:\\Users\\Eqra\\Desktop\\Quran_Project\\processing.2.csv\", index=False, encoding='utf-8-sig')"
   ]
  },
  {
   "cell_type": "code",
   "execution_count": null,
   "id": "218a2704",
   "metadata": {},
   "outputs": [],
   "source": []
  }
 ],
 "metadata": {
  "kernelspec": {
   "display_name": "base",
   "language": "python",
   "name": "python3"
  },
  "language_info": {
   "codemirror_mode": {
    "name": "ipython",
    "version": 3
   },
   "file_extension": ".py",
   "mimetype": "text/x-python",
   "name": "python",
   "nbconvert_exporter": "python",
   "pygments_lexer": "ipython3",
   "version": "3.13.5"
  }
 },
 "nbformat": 4,
 "nbformat_minor": 5
}
